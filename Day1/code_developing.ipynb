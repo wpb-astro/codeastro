{
 "cells": [
  {
   "attachments": {},
   "cell_type": "markdown",
   "metadata": {},
   "source": [
    "# Software Development Environments"
   ]
  },
  {
   "attachments": {},
   "cell_type": "markdown",
   "metadata": {},
   "source": [
    "## tl;dr\n",
    "\n",
    " * Integrated Development Environments (IDEs): we recommend you use one for software development ✔\n",
    " * Jupyter notebooks: great for tutorials and as a playground for getting familiar with code, but not great for software engineering 🚸\n",
    " * plain text editors: try to avoid, although sometimes you have to use one ⛔"
   ]
  },
  {
   "attachments": {},
   "cell_type": "markdown",
   "metadata": {},
   "source": [
    "## Integrated Development Environments (IDEs)\n",
    "\n",
    " * All-in-one that comes with many features to help to code\n",
    " * We think it is worth the (small) effort to learn to use one\n",
    " * The two leading IDEs for Python are VS Code and PyCharm\n",
    " * We will be demoing useful features in VS Code throughout the week\n",
    " * Demo:\n",
    "    * VS Code workspace introduction (see [Video from Day0 Installation](https://youtu.be/yl60qAmmOMM))\n",
    "    * Autocomplete\n",
    "    * Static error checking (linting)\n",
    "    * Debug mode (we will demo this more thoroughly in Day2)\n",
    "    * Git integration (see [Video from Day0 Installation](https://youtu.be/yl60qAmmOMM))\n",
    " * Other useful features not in the demo:\n",
    "    * SSH integration: can edit code on a remote computer that you can login to via ssh (see [Video from Day0 Installation](https://youtu.be/yl60qAmmOMM))\n",
    "    * WSL integration: for Windows users, allows you to program in the Linux subsystem\n",
    "    * Extensions marketplace: can customize VS Code with additional plugins \n",
    "    * Can be used to open and run Jupyter notebooks (see [Video from Day0 Installation](https://youtu.be/yl60qAmmOMM))"
   ]
  },
  {
   "attachments": {},
   "cell_type": "markdown",
   "metadata": {},
   "source": [
    "## Jupyter Notebooks \n",
    "\n",
    " * Combination of code cells and Markdown text cells make it useful for writing tutorials\n",
    " * Running/rerunning one cell at a time allows you to play around with the code/understand how it works\n",
    " * Useful for plotting, solving a problem (think of it as a document)\n",
    " * Output depends on order cells are run/rerun -> not good for repeatability\n",
    " * Not designed for programming a software package"
   ]
  },
  {
   "attachments": {},
   "cell_type": "markdown",
   "metadata": {},
   "source": [
    "## Plain text editors\n",
    "\n",
    "* The \"old-school\" editors (e.g., vim, emacs, nano, notepad++)\n",
    "* We generally recommend you avoid doing large amounts of programing in them as the code is prone to bugs\n",
    "* Sometimes inevitable in astronomy so it is good to learn a little bit of either vim or emacs\n",
    "* You can [use VS Code over ssh](https://code.visualstudio.com/docs/remote/ssh), so you should not need to use these very often!"
   ]
  },
  {
   "attachments": {},
   "cell_type": "markdown",
   "metadata": {},
   "source": [
    "# Object-Oriented and Functional Programming"
   ]
  },
  {
   "attachments": {},
   "cell_type": "markdown",
   "metadata": {},
   "source": [
    "## tl;dr\n",
    "\n",
    " * Object-oriented programming relies on the state of variables to determine the output\n",
    "    * Good to keep track of something that is changing (e.g., the number of people in a Zoom meeting)\n",
    " * Functional programming relies solely on the inputs, which do not change, to determine the output\n",
    "    * Good for math equations (e.g., computing the inverse of a matrix)\n",
    " * Typically, you will want a mix of both programming paradigms"
   ]
  },
  {
   "attachments": {},
   "cell_type": "markdown",
   "metadata": {},
   "source": [
    "## Object-Oriented Programming\n",
    " \n",
    "![](imgs/oo-meme.png)"
   ]
  },
  {
   "attachments": {},
   "cell_type": "markdown",
   "metadata": {},
   "source": [
    "## Classes\n",
    "\n",
    " * Classes organize variables and functions into a single object\n",
    "   * Example: `Telescope()` class with functions like `telescope.close_shutter()` and attributes like `telescope.current_target`. \n",
    " * Objects can be used to track state - useful model for many things in the world\n",
    "   * Example: `telescope.current_target` changes when we slew to a new target\n",
    " * Inheritance: takes fields/functions from a super class (or parent class) - useful for reorganizing/reusing code\n",
    "   * Example: `SpaceTelescope()` could be subclasses of the `Telescope` class since each subclass might have specific functionality that doesn't apply to all telescopes: `space_telescope.distance_to_earth`. \n",
    " * Refer to the diagnostic notebook for the basics on class and superclass syntax\n",
    "\n",
    "### Activity: Build a Gravity Simulator\n",
    "\n",
    "#### Goal\n",
    "\n",
    " * Finish the following free fall gravity simulator. Use your simulation to determine how long it takes for a particle to fall to the ground from a height of 10 meters. We will poll everyone on what result they get.\n",
    " * Bonus activity: In the future, we want particles that experience other forces and move in 3D. Write a `Particle` superclass that the `FreeFallParticle` is a subclass of. What fields go into the `Particle` class? \n",
    "\n",
    "#### End-product\n",
    " * Reply to the Piazza post (anonymously is totally fine) with your result on how long it takes for a particle to fall to the ground from a height of 10 meters. \n",
    "\n",
    "#### Roles\n",
    " * Driver: in charge of sharing their screen and typing the code for this activity (the person that lives at the highest latitude)\n",
    " * Navigator: in charge of directing the driver what to code (everyone else; can be more than one person)\n",
    "\n",
    "#### Instructions\n",
    " * Figure out who is in which role based on criteria above\n",
    " * Read through the current code and discuss as a team what needs to be done to complete the main goal (how long it takes for a particle to fall from 10 m)\n",
    "    * Hint: we provided some psuedocode to perform the the physics equations to simulate gravity at each timestep. Use those to modify the state of the particle by each time step.\n",
    "    * Hint: you may consider calling `simulate_timestep()` in a for-loop to figure out when the ball drops to 0 meters. \n",
    "    * Hint: if you are confused about which part of the code to modify, look for the `HINT:` comments in the text which indicate where you should write code! \n",
    " * Code it up and get an answer!\n",
    " * If you have time, discuss as a team how to accomplish the bonus activity and code that up as well. Check that you get the same answer from how long it takes a particle to fall from a height of 10 meters.\n",
    "\n",
    "Note that there is no single right answer for either activity!"
   ]
  },
  {
   "cell_type": "code",
   "execution_count": 46,
   "metadata": {},
   "outputs": [],
   "source": [
    "# Object-Oriented Programming\n",
    "\n",
    "class Particle(object):\n",
    "    \"\"\"\n",
    "    A simulated particle that moves in 3D\n",
    "\n",
    "    TODO: this is just a place holder for now. We need to figure out what fields go in here. \n",
    "    \"\"\"\n",
    "    def __init__(self):\n",
    "        pass\n",
    "\n",
    "\n",
    "class FreeFallParticle(Particle):\n",
    "    \"\"\"\n",
    "    Simulate a particle falling due to Earth's gravity. Particle is stationary at first\n",
    "\n",
    "    Args:\n",
    "        height (float): a height in meters\n",
    "        dt (float): timestep of the simulation in seconds\n",
    "    \"\"\"\n",
    "    def __init__(self, height, dt=0.1):\n",
    "        \"\"\"\n",
    "        Function that is run to initialize the class.\n",
    "\n",
    "        The input `self` is required for functions that belong to an object,\n",
    "        meaning that you want to make the function access and/or depend on the \n",
    "        attributes of the object (e.g., self.time, and self.velocity below)\n",
    "        \"\"\"\n",
    "        # let's initalize it's parent class (empty for now because it is a blank class)\n",
    "        super().__init__()\n",
    "\n",
    "        # note that we are not using the astropy.units class here as we haven't talked about it yet! But it could be useful!\n",
    "        self.height = height # current height [meters]\n",
    "        self.height_original = self.height # original height [meters]\n",
    "        self.velocity = 0 # current velocity [meters/second]\n",
    "        self.time = 0 # time elapsed [seconds]\n",
    "        self.dt = dt # timestep of the simulation [seconds]\n",
    "        self.dt0 = dt # original timestep\n",
    "        self.g = -9.8 # gravitational acceleration (Don't change) [meters/second^2]\n",
    "\n",
    "\n",
    "    def get_num_steps_run(self):\n",
    "        \"\"\"\n",
    "        Function that returns the number of timesteps that have run by comparing self.time with self.dt\n",
    "\n",
    "        Returns:\n",
    "            num_steps (int): number of time steps already completed in the simulation\n",
    "        \"\"\"\n",
    "        #print('not properly handling self.dt')\n",
    "        #return \n",
    "        num_steps = int(self.time / self.dt)\n",
    "        return num_steps\n",
    "\n",
    "    ##### Activity ######\n",
    "    \"\"\"\n",
    "    Add functionality to advance the particle's height by one time step at a time. (hint: implement the function below).\n",
    "    Then use this code to calculate how long it takes for the particle to fall down from a height of 10 meters.\n",
    "\n",
    "    Some useful equations for how to calculate the particle's new state at the next time step.\n",
    "    Pseudo code below:\n",
    "    acceleration = g\n",
    "    new_velocity = current_velocity + acceleration * dt\n",
    "    new_height = current_height + new_velocity * dt\n",
    "\n",
    "    Add inputs and outputs. \n",
    "    \"\"\"\n",
    "\n",
    "    def reset_ball_to_original_conditions(self, **kwargs):\n",
    "        \"\"\" \n",
    "        put the ball at its original height\n",
    "        \"\"\"\n",
    "        self.height = self.height_original\n",
    "        self.velocity = 0.\n",
    "        self.time = 0.\n",
    "        self.dt = self.dt0\n",
    "\n",
    "    def simulate_timestep(self, dt=None, verbose=True):\n",
    "        \"\"\"\n",
    "        Advance the simulation time by a single timestep (self.dt). \n",
    "        Update the simulation with the new time, height, and velocity\n",
    "\n",
    "        Returns:\n",
    "            height (float): the current height in meters\n",
    "        \"\"\"\n",
    "        if dt is None:\n",
    "            dt = self.dt\n",
    "        new_velocity = self.velocity + self.g * dt\n",
    "        new_height = self.height + new_velocity * dt\n",
    "        # update class attributes of interest\n",
    "        self.height = new_height\n",
    "        self.time += dt\n",
    "        self.velocity = new_velocity\n",
    "        if verbose:\n",
    "            print(f\"here's the new height: {self.height}\")\n",
    "    \n",
    "    def simulate_to_groundzero(self, dt=None, hard_reset=False, **kwargs): #dt=None, verbose):\n",
    "        \"\"\" \n",
    "\n",
    "        \"\"\"\n",
    "        if hard_reset:\n",
    "            self.reset_ball_to_original_conditions()\n",
    "        assert abs(self.height - self.height_original) < 1e-12 , \"You need to reset the height to original.\"\n",
    "\n",
    "        if dt is not None:\n",
    "            self.dt = dt\n",
    "\n",
    "        while self.height > 0.:\n",
    "            self.simulate_timestep(**kwargs)\n",
    "        if 'verbose' in list(kwargs.keys()):\n",
    "            if kwargs['verbose']:\n",
    "                print(self.time) \n",
    "        return self.time"
   ]
  },
  {
   "cell_type": "code",
   "execution_count": 12,
   "metadata": {},
   "outputs": [
    {
     "name": "stdout",
     "output_type": "stream",
     "text": [
      "0 10\n",
      "here's the new height: 9.902\n",
      "0.1 9.902\n",
      "here's the new height: 9.706\n",
      "0.2 9.706\n"
     ]
    }
   ],
   "source": [
    "# Here's how you could call this function\n",
    "ball = FreeFallParticle(10) # start out a 10 m above the ground\n",
    "print(ball.time, ball.height)\n",
    "ball.simulate_timestep()\n",
    "print(ball.time, ball.height) # time should move forward by 0.1 seconds\n",
    "ball.simulate_timestep()\n",
    "print(ball.time, ball.height) # time should move forward by ANOTHER 0.1 seconds\n",
    "## HINT: you'll need to change this so we run it until the ball falls to the ground! \n"
   ]
  },
  {
   "cell_type": "code",
   "execution_count": 47,
   "metadata": {},
   "outputs": [
    {
     "name": "stdout",
     "output_type": "stream",
     "text": [
      "time to fall: 1.4000000000000001 (dt = 0.1)\n",
      "number of steps run: 14 (dt = 0.1)\n",
      "\n",
      "time to fall: 1.4289999999999534 (dt = 0.001)\n",
      "number of steps run: 1428 (dt = 0.001)\n"
     ]
    }
   ],
   "source": [
    "ball = FreeFallParticle(10.)\n",
    "\n",
    "time_to_fall = ball.simulate_to_groundzero(verbose=False)\n",
    "print(f\"time to fall: {time_to_fall} (dt = {ball.dt})\")\n",
    "print(f\"number of steps run: {ball.get_num_steps_run()} (dt = {ball.dt})\")\n",
    "print('')\n",
    "time_to_fall2 = ball.simulate_to_groundzero(verbose=False, hard_reset=True, dt=0.001)\n",
    "print(f\"time to fall: {time_to_fall2} (dt = {ball.dt})\")\n",
    "print(f\"number of steps run: {ball.get_num_steps_run()} (dt = {ball.dt})\")\n"
   ]
  },
  {
   "cell_type": "code",
   "execution_count": 24,
   "metadata": {},
   "outputs": [
    {
     "name": "stdout",
     "output_type": "stream",
     "text": [
      "1.4285700000008914 -4.99999406707115e-05\n"
     ]
    }
   ],
   "source": [
    "ball = FreeFallParticle(10.)\n",
    "time_to_fall = ball.simulate_to_groundzero(verbose=False, dt=0.00001)\n",
    "# custom args\n",
    "#tfall_2 = ball.simulate_to_groundzero(dt=0.001)\n",
    "print(time_to_fall, ball.height)\n",
    "#time_to_fall2 = ball.simulate_to_groundzero(verbose=False, dt=0.1)\n",
    "#print(time_to_fall2, ball.height)\n"
   ]
  },
  {
   "attachments": {},
   "cell_type": "markdown",
   "metadata": {},
   "source": [
    "## Object Oriented Programming\n",
    "    \n",
    " * Code structured around objects\n",
    " * Depends on changing/\"mutable\" state of the object (e.g., `self.height`, `self.velocity`, etc.)\n",
    " * Most things in the world change, so it makes sense to frame things in this way\n",
    " * We recommend identifying entities that should become objects and program around this. \n",
    "   * Examples: particles in a simulation can be grouped together in a class, spectrum files produced by a pipeline that all have the same format\n",
    "\n",
    "Some more subtle things to consider when using classes\n",
    "\n",
    "  * Creating an object can be slow. Too many object creations can slow down code\n",
    "  * Could be prone to bugs since function outputs depends on both inputs and the current state of the object\n",
    "\n",
    "Here's some resources to learn more about object-oriented programming for Python\n",
    "\n",
    "  * More conceptual discussion: https://www.educative.io/blog/how-to-use-oop-in-python\n",
    "  * More features that can be used: https://www.programiz.com/python-programming/object-oriented-programming\n",
    "  "
   ]
  },
  {
   "attachments": {},
   "cell_type": "markdown",
   "metadata": {},
   "source": [
    "## Functional Programming\n",
    "\n",
    "![](imgs/fp-meme.png)"
   ]
  },
  {
   "attachments": {},
   "cell_type": "markdown",
   "metadata": {},
   "source": [
    "## Functional Programming\n",
    "\n",
    " * Key paradigm: functions outputs depend solely on the inputs\n",
    "    * Easier to guarantee correctness\n",
    "    * More messy to track changing state of things\n",
    " * Functional programming != no objects. Objects however are static data structures.\n",
    "    * You need to create a new object if you want to change an object\n",
    " * Useful for math problems, physics equations, unit conversions\n",
    "    * `import astropy.units as u; u.m.to(u.nm)`\n",
    "    * Data pipelines where given input should always return given output"
   ]
  },
  {
   "attachments": {},
   "cell_type": "markdown",
   "metadata": {},
   "source": [
    "## Object Oriented vs Functional Programming\n",
    "\n",
    " * Object oriented programming is good when things change (e.g., the position of a planet, the current image being analyzed)\n",
    " * Functional programming is good for deterministic things (e.g., math equations, making sure you do not accidentally apply the same function twice)\n",
    " * Most modern packages use both (whether they think about it or not) -- neither is \"superior\". \n",
    " * Object-oriented and functional programming are tools to solve a engineering problem. Each company or software group will have different approaches to tackling a problem given these tools. If it works for your team to solve a problem and keep the code maintainable, then it is a good solution. There is no one right answer!"
   ]
  },
  {
   "cell_type": "code",
   "execution_count": null,
   "metadata": {},
   "outputs": [],
   "source": [
    "# Functional Programming Example. \n",
    "\n",
    "class FuncParticle(object):\n",
    "    \"\"\"\n",
    "    A particle with a given height and vertical instantaneous velocity\n",
    "\n",
    "    Args:\n",
    "        height (float): height of the object currently in meters\n",
    "        velocity (float): velocity of the object in meters. Default is 0 (at rest)\n",
    "    \"\"\"\n",
    "    def __init__(self, height, velocity=0):\n",
    "        self.height = height\n",
    "        self.velocity = velocity\n",
    "\n",
    "def freefall_timestep(thing, dt=0.1):\n",
    "    \"\"\"\n",
    "    Simulate free fall of the particle for a small time step\n",
    "\n",
    "    Args:\n",
    "        thing (FuncParticle): the current position and velocity of the particle\n",
    "        dt (float): optional float that specifies the timestep in seconds\n",
    "\n",
    "    Returns:\n",
    "        new_thing (FuncParticle): the updated position and velocity of the particle\n",
    "    \"\"\"\n",
    "    dt_units = dt\n",
    "    new_velocity = thing.velocity + -9.8 * dt_units\n",
    "    new_height = thing.height + new_velocity * dt_units\n",
    "\n",
    "    new_thing = FuncParticle(new_height, new_velocity)\n",
    "    return new_thing\n",
    "\n",
    "\n",
    "ball = FuncParticle(1) # start a ball at 1 m\n",
    "ball_states = [ball]\n",
    "print(0, ball.height)\n",
    "dt = 0.1\n",
    "time = 0\n",
    "\n",
    "for i in range(5):\n",
    "    new_ball = freefall_timestep(ball_states[-1], dt)\n",
    "    ball_states = ball_states + [new_ball,]\n",
    "    time += dt\n",
    "    print(time, new_ball.height)\n",
    "\n",
    "\n",
    "# Running the function with the same inputs will return the same result\n",
    "# This generally would not happen with object oriented programming\n",
    "# When is this good or bad?\n",
    "output_ball_1 = freefall_timestep(ball, dt)\n",
    "output_ball_2 = freefall_timestep(ball, dt)\n",
    "print(\"Are these the same?\", output_ball_1.height, output_ball_2.height)\n",
    "\n"
   ]
  },
  {
   "attachments": {},
   "cell_type": "markdown",
   "metadata": {},
   "source": [
    "## Bonus Activity\n",
    "\n",
    "Write a function that returns the history of heights that the object was at (and their corresponding times). For example, if the object was at `height = 1` at `time = 0`, `height = 0.902` at `t = 0.1`, and `height = 0.706` at `t = 0.2`, the function should return `[1, 0.902, 0.706]` for the heights and `[0, 0.1, 0.2]` for the corresponding times. Choose to implement it either in the object oriented or functional framework we provided. If you have time, try the other one too! \n"
   ]
  },
  {
   "cell_type": "code",
   "execution_count": null,
   "metadata": {},
   "outputs": [],
   "source": []
  }
 ],
 "metadata": {
  "file_extension": ".py",
  "kernelspec": {
   "display_name": "Python 3",
   "language": "python",
   "name": "python3"
  },
  "language_info": {
   "codemirror_mode": {
    "name": "ipython",
    "version": 3
   },
   "file_extension": ".py",
   "mimetype": "text/x-python",
   "name": "python",
   "nbconvert_exporter": "python",
   "pygments_lexer": "ipython3",
   "version": "3.10.12"
  },
  "mimetype": "text/x-python",
  "name": "python",
  "npconvert_exporter": "python",
  "orig_nbformat": 2,
  "pygments_lexer": "ipython3",
  "version": 3
 },
 "nbformat": 4,
 "nbformat_minor": 2
}
